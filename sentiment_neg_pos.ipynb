{
  "nbformat": 4,
  "nbformat_minor": 0,
  "metadata": {
    "colab": {
      "provenance": []
    },
    "kernelspec": {
      "name": "python3",
      "display_name": "Python 3"
    },
    "language_info": {
      "name": "python"
    }
  },
  "cells": [
    {
      "cell_type": "code",
      "execution_count": 2,
      "metadata": {
        "id": "c736Bu3DQc9z"
      },
      "outputs": [],
      "source": [
        "import nltk\n",
        "from nltk.sentiment import SentimentIntensityAnalyzer"
      ]
    },
    {
      "cell_type": "code",
      "source": [
        "nltk.download('vader_lexicon')"
      ],
      "metadata": {
        "colab": {
          "base_uri": "https://localhost:8080/"
        },
        "id": "QF9jEnfxQjrT",
        "outputId": "2febb53c-41e6-4eca-8eb8-e8a7acc92146"
      },
      "execution_count": 3,
      "outputs": [
        {
          "output_type": "stream",
          "name": "stderr",
          "text": [
            "[nltk_data] Downloading package vader_lexicon to /root/nltk_data...\n",
            "[nltk_data]   Package vader_lexicon is already up-to-date!\n"
          ]
        },
        {
          "output_type": "execute_result",
          "data": {
            "text/plain": [
              "True"
            ]
          },
          "metadata": {},
          "execution_count": 3
        }
      ]
    },
    {
      "cell_type": "code",
      "source": [
        "sample_text = \"The stale smell of old beer lingers. It takes heat to bring out the odor a cold dip restores health and zest a salt pickle. Taste fine with ham tacos al Pastore are my favorite a zestful food is the hot cross bun.\""
      ],
      "metadata": {
        "id": "EW1qHUAYREdo"
      },
      "execution_count": 5,
      "outputs": []
    },
    {
      "cell_type": "code",
      "source": [
        "sid = SentimentIntensityAnalyzer()"
      ],
      "metadata": {
        "id": "A6zyrNTgRK0S"
      },
      "execution_count": 6,
      "outputs": []
    },
    {
      "cell_type": "code",
      "source": [
        "sentiment_scores = sid.polarity_scores(sample_text)"
      ],
      "metadata": {
        "id": "gSz5z2W_RT_Z"
      },
      "execution_count": 7,
      "outputs": []
    },
    {
      "cell_type": "code",
      "source": [
        "if sentiment_scores['compound'] >= 0.05:\n",
        "    sentiment = 'Positive'\n",
        "elif sentiment_scores['compound'] <= -0.05:\n",
        "    sentiment = 'Negative'\n",
        "else:\n",
        "    sentiment = 'Neutral'"
      ],
      "metadata": {
        "id": "rlyweS4uRYB5"
      },
      "execution_count": 8,
      "outputs": []
    },
    {
      "cell_type": "code",
      "source": [
        "print(f\"Sample Text: {sample_text}\")\n",
        "print(f\"Sentiment: {sentiment}\")\n",
        "print(f\"Sentiment Scores: {sentiment_scores}\")"
      ],
      "metadata": {
        "colab": {
          "base_uri": "https://localhost:8080/"
        },
        "id": "BmZxI5xVRhLA",
        "outputId": "11d7741f-3092-489a-f437-cd6ab430f06d"
      },
      "execution_count": 9,
      "outputs": [
        {
          "output_type": "stream",
          "name": "stdout",
          "text": [
            "Sample Text: The stale smell of old beer lingers. It takes heat to bring out the odor a cold dip restores health and zest a salt pickle. Taste fine with ham tacos al Pastore are my favorite a zestful food is the hot cross bun.\n",
            "Sentiment: Positive\n",
            "Sentiment Scores: {'neg': 0.0, 'neu': 0.841, 'pos': 0.159, 'compound': 0.7184}\n"
          ]
        }
      ]
    },
    {
      "cell_type": "code",
      "source": [],
      "metadata": {
        "id": "ribzc7NCRkpo"
      },
      "execution_count": null,
      "outputs": []
    }
  ]
}